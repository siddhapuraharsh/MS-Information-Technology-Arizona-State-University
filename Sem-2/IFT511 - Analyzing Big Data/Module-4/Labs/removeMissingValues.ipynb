{
 "cells": [
  {
   "cell_type": "markdown",
   "metadata": {},
   "source": [
    "Part I\n",
    "Follow the instructions from class for this part.\n",
    "\n",
    "1. Download the Mushroom Dataset from the UCI repository:\n",
    "    - https://archive.ics.uci.edu/ml/datasets/mushroomLinks to an external site.\n",
    "    - The name of the dataset file is agaricus-lepiota.data\n",
    "2. Missing values in this dataset are represented using a questions mark: ?\n",
    "3. Write a script that:\n",
    "    - Prints the number of missing values in each row\n",
    "    - Prints the number of missing values in each column\n",
    "    - Removes the column that contains missing values."
   ]
  },
  {
   "cell_type": "code",
   "execution_count": 1,
   "metadata": {},
   "outputs": [
    {
     "name": "stdout",
     "output_type": "stream",
     "text": [
      "The number of missing values in each row : \n",
      "0       0\n",
      "1       0\n",
      "2       0\n",
      "3       0\n",
      "4       0\n",
      "       ..\n",
      "8119    1\n",
      "8120    1\n",
      "8121    1\n",
      "8122    1\n",
      "8123    1\n",
      "Length: 8124, dtype: int64\n",
      "\n",
      "Total number of missing values in row : \n",
      "0    5644\n",
      "1    2480\n",
      "Name: count, dtype: int64\n"
     ]
    }
   ],
   "source": [
    "import pandas as pd\n",
    "\n",
    "df = pd.read_csv('agaricus-lepiota.data', header=None)\n",
    "\n",
    "# Row\n",
    "missValuesEachRow = df.isin(['?']).sum(axis=1)\n",
    "print(f'The number of missing values in each row : \\n{missValuesEachRow}')\n",
    "totalMissedRow = missValuesEachRow.value_counts() # axis=1 means column\n",
    "print(f'\\nTotal number of missing values in row : \\n{totalMissedRow}')\n"
   ]
  },
  {
   "cell_type": "code",
   "execution_count": 2,
   "metadata": {},
   "outputs": [
    {
     "name": "stdout",
     "output_type": "stream",
     "text": [
      "\n",
      "The number of missing values in each column : \n",
      "0        0\n",
      "1        0\n",
      "2        0\n",
      "3        0\n",
      "4        0\n",
      "5        0\n",
      "6        0\n",
      "7        0\n",
      "8        0\n",
      "9        0\n",
      "10       0\n",
      "11    2480\n",
      "12       0\n",
      "13       0\n",
      "14       0\n",
      "15       0\n",
      "16       0\n",
      "17       0\n",
      "18       0\n",
      "19       0\n",
      "20       0\n",
      "21       0\n",
      "22       0\n",
      "dtype: int64\n",
      "\n",
      "Total number of missing values in column : \n",
      "0       22\n",
      "2480     1\n",
      "Name: count, dtype: int64\n"
     ]
    }
   ],
   "source": [
    "# Column\n",
    "missValuesEachColumn = df.isin(['?']).sum(axis=0)\n",
    "print(f'\\nThe number of missing values in each column : \\n{missValuesEachColumn}')\n",
    "totalMissedColumn = missValuesEachColumn.value_counts() # axis=0 means row(default)\n",
    "print(f'\\nTotal number of missing values in column : \\n{totalMissedColumn}')"
   ]
  },
  {
   "cell_type": "code",
   "execution_count": 3,
   "metadata": {},
   "outputs": [
    {
     "name": "stdout",
     "output_type": "stream",
     "text": [
      "Updated dataframe: \n",
      "      0  1  2  3  4  5  6  7  8  9   ... 13 14 15 16 17 18 19 20 21 22\n",
      "0     p  x  s  n  t  p  f  c  n  k  ...  s  w  w  p  w  o  p  k  s  u\n",
      "1     e  x  s  y  t  a  f  c  b  k  ...  s  w  w  p  w  o  p  n  n  g\n",
      "2     e  b  s  w  t  l  f  c  b  n  ...  s  w  w  p  w  o  p  n  n  m\n",
      "3     p  x  y  w  t  p  f  c  n  n  ...  s  w  w  p  w  o  p  k  s  u\n",
      "4     e  x  s  g  f  n  f  w  b  k  ...  s  w  w  p  w  o  e  n  a  g\n",
      "...  .. .. .. .. .. .. .. .. .. ..  ... .. .. .. .. .. .. .. .. .. ..\n",
      "8119  e  k  s  n  f  n  a  c  b  y  ...  s  o  o  p  o  o  p  b  c  l\n",
      "8120  e  x  s  n  f  n  a  c  b  y  ...  s  o  o  p  n  o  p  b  v  l\n",
      "8121  e  f  s  n  f  n  a  c  b  n  ...  s  o  o  p  o  o  p  b  c  l\n",
      "8122  p  k  y  n  f  y  f  c  n  b  ...  k  w  w  p  w  o  e  w  v  l\n",
      "8123  e  x  s  n  f  n  a  c  b  y  ...  s  o  o  p  o  o  p  o  c  l\n",
      "\n",
      "[8124 rows x 22 columns]\n"
     ]
    }
   ],
   "source": [
    "# Removing column which contains missing values\n",
    "df = df.drop([11], axis=1)\n",
    "print('Updated dataframe: \\n', df)"
   ]
  },
  {
   "cell_type": "markdown",
   "metadata": {},
   "source": [
    "Part II\n",
    "\n",
    "In this part you will clean the Google Play Store dataset.\n",
    "\n",
    "1. Download the Dataset file from Kaggle:\n",
    "    - https://www.kaggle.com/lava18/google-play-store-apps?select=googleplaystore.csvLinks to an external site.\n",
    "    - The file name is googleplaystore.csv\n",
    "2. Create a new Jupyter Notebook (Or you can use any editor of your preference).\n",
    "3. The first step is to decide whether the rows or the columns that contain missing values should be removed.\n",
    "    - If one column contains lots of missing values (more than 100 for this dataset), then it should be removed. Otherwise, only rows with missing values will be removed.\n",
    "4. You can check which columns contain missing values in the dataframe by calling the isnull() function:\n",
    "    - print(d.isnull().any())\n",
    "5. Find how many missing values are in each column. You can do so by scanning the columns and calling the isnull() function, which returns True for each missing value:\n",
    "    for c in d.columns: \n",
    "        print( c, d[c].isnull().sum() )\n",
    "    - The sum() function adds up the number of missing values within each column.\n",
    "6. Now that you know which columns have many missing values, there is one column that has a lot of missing values. Remove this column. You can do so by calling the drop() function:\n",
    "    drop(['Column_Name'], axis=1)\n",
    "    - make sure to specify axis=1 so that you drop columns and not rows.\n",
    "7. Next, remove any other rows that contain missing values. You can do so using the dropna() function.\n",
    "8. How many rows & columns are left in the cleaned dataset?"
   ]
  },
  {
   "cell_type": "code",
   "execution_count": 4,
   "metadata": {},
   "outputs": [
    {
     "name": "stdout",
     "output_type": "stream",
     "text": [
      "The number of missing values in each row : \n",
      "0        0\n",
      "1        0\n",
      "2        0\n",
      "3        0\n",
      "4        0\n",
      "        ..\n",
      "10836    0\n",
      "10837    0\n",
      "10838    1\n",
      "10839    0\n",
      "10840    0\n",
      "Length: 10841, dtype: int64\n",
      "\n",
      "Total number of missing values in row : \n",
      "0    9360\n",
      "1    1475\n",
      "2       6\n",
      "Name: count, dtype: int64\n"
     ]
    }
   ],
   "source": [
    "import pandas as pd\n",
    "\n",
    "df = pd.read_csv('googleplaystore.csv')\n",
    "\n",
    "# Finding missing values per row\n",
    "missValuesRows = df.isnull().sum(axis=1)\n",
    "print(f'The number of missing values in each row : \\n{missValuesRows}')\n",
    "totalMissValueRow = missValuesRows.value_counts() # axis=1 means column\n",
    "print(f'\\nTotal number of missing values in row : \\n{totalMissValueRow}')\n"
   ]
  },
  {
   "cell_type": "code",
   "execution_count": 5,
   "metadata": {},
   "outputs": [
    {
     "name": "stdout",
     "output_type": "stream",
     "text": [
      "\n",
      "The number of missing values in each column : \n",
      "App                  0\n",
      "Category             0\n",
      "Rating            1474\n",
      "Reviews              0\n",
      "Size                 0\n",
      "Installs             0\n",
      "Type                 1\n",
      "Price                0\n",
      "Content Rating       1\n",
      "Genres               0\n",
      "Last Updated         0\n",
      "Current Ver          8\n",
      "Android Ver          3\n",
      "dtype: int64\n",
      "\n",
      "Total number of missing values in column : \n",
      "0       8\n",
      "1       2\n",
      "1474    1\n",
      "8       1\n",
      "3       1\n",
      "Name: count, dtype: int64\n"
     ]
    }
   ],
   "source": [
    "# Finding missing values per column\n",
    "missValuesColumn = df.isnull().sum(axis=0)\n",
    "print(f'\\nThe number of missing values in each column : \\n{missValuesColumn}')\n",
    "totalMissValuesColumn = missValuesColumn.value_counts() # axis=0 means row(default)\n",
    "print(f'\\nTotal number of missing values in column : \\n{totalMissValuesColumn}')"
   ]
  },
  {
   "cell_type": "code",
   "execution_count": 6,
   "metadata": {},
   "outputs": [
    {
     "name": "stdout",
     "output_type": "stream",
     "text": [
      "Number of rows: 10829\n",
      "Number of columns: 12\n"
     ]
    }
   ],
   "source": [
    "# Drop the column that has the highest number of missing values(Rating)\n",
    "df = df.drop(['Rating'], axis=1)\n",
    "\n",
    "# Remove rows with missing values\n",
    "df = df.dropna()\n",
    "\n",
    "# Display the number of rows and columns in the cleaned dataset\n",
    "num_rows, num_columns = df.shape\n",
    "print(f\"Number of rows: {num_rows}\")\n",
    "print(f\"Number of columns: {num_columns}\")"
   ]
  }
 ],
 "metadata": {
  "kernelspec": {
   "display_name": "Python 3 (ipykernel)",
   "language": "python",
   "name": "python3"
  },
  "language_info": {
   "codemirror_mode": {
    "name": "ipython",
    "version": 3
   },
   "file_extension": ".py",
   "mimetype": "text/x-python",
   "name": "python",
   "nbconvert_exporter": "python",
   "pygments_lexer": "ipython3",
   "version": "3.11.5"
  }
 },
 "nbformat": 4,
 "nbformat_minor": 2
}
