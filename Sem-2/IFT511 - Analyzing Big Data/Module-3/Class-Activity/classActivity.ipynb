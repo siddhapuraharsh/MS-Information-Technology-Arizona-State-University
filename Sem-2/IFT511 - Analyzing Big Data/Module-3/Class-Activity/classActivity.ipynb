{
 "cells": [
  {
   "cell_type": "markdown",
   "metadata": {},
   "source": [
    "Name: Harsh Siddhapura\n",
    "\n",
    "Enrollment No.: 1230169813\n",
    "\n",
    "Dataset\n",
    "We will work with a User-Movie-Rating Dataset. \n",
    "1. ratings.csv\n",
    "    - The ratings file contains ratings of users for different movies. \n",
    "2. movies.csv\n",
    "    - The movies file contains the genres of each movie.\n",
    "\n",
    "Activity Description\n",
    "You are trying to understand user preferences in movies. This is an important step for tasks such as generating recommendations. \n",
    "    - If you are able to identify the genre(s) that each user likes the most, you can suggest movies for each user based on their most favorite genre(s).\n",
    "    - Some users watch movies more than others. The more active a user is, the more suggestions / recommendations can be made for that user. \n",
    "    - Some movies are more popular than others. The movie popularity can play a role in deciding whether to recommend it to a user or not."
   ]
  },
  {
   "cell_type": "markdown",
   "metadata": {},
   "source": [
    "1. Find the number of movies rated by each user. This quantifies user activity."
   ]
  },
  {
   "cell_type": "code",
   "execution_count": 2,
   "metadata": {},
   "outputs": [
    {
     "name": "stdout",
     "output_type": "stream",
     "text": [
      "Number of movies rated by each user: \n",
      "userId\n",
      "1       232\n",
      "2        29\n",
      "3        39\n",
      "4       216\n",
      "5        44\n",
      "       ... \n",
      "606    1115\n",
      "607     187\n",
      "608     831\n",
      "609      37\n",
      "610    1302\n",
      "Name: count, Length: 610, dtype: int64\n"
     ]
    }
   ],
   "source": [
    "import pandas as pd\n",
    "\n",
    "df = pd.read_csv('ratings.csv', header=0)\n",
    "usersCount = df['userId'].value_counts(sort=False)\n",
    "print(f'Number of movies rated by each user: \\n{usersCount}')"
   ]
  },
  {
   "cell_type": "markdown",
   "metadata": {},
   "source": [
    "2. Find the number of ratings given to each movie. This is a measure of movie popularity"
   ]
  },
  {
   "cell_type": "code",
   "execution_count": 3,
   "metadata": {},
   "outputs": [
    {
     "name": "stdout",
     "output_type": "stream",
     "text": [
      "Number of ratings given to each movie: \n",
      "movieId\n",
      "1         215\n",
      "3          52\n",
      "6         102\n",
      "47        203\n",
      "50        204\n",
      "         ... \n",
      "160341      1\n",
      "160527      1\n",
      "160836      1\n",
      "163937      1\n",
      "163981      1\n",
      "Name: count, Length: 9724, dtype: int64\n"
     ]
    }
   ],
   "source": [
    "moviesCount = df['movieId'].value_counts(sort=False)\n",
    "print(f'Number of ratings given to each movie: \\n{moviesCount}')"
   ]
  },
  {
   "cell_type": "markdown",
   "metadata": {},
   "source": [
    "3. For each user, find the most popular genre they watch. Alternatively, to make this an easier task, for each user, find all the genres of the movies that this user watched, and sort those genres by frequency. "
   ]
  },
  {
   "cell_type": "code",
   "execution_count": 7,
   "metadata": {},
   "outputs": [
    {
     "name": "stdout",
     "output_type": "stream",
     "text": [
      "       userId       genres  genreCount\n",
      "0           1       Action          90\n",
      "1           1    Adventure          85\n",
      "4           1       Comedy          83\n",
      "6           1        Drama          68\n",
      "14          1     Thriller          55\n",
      "...       ...          ...         ...\n",
      "10025     610          War          47\n",
      "10026     610      Western          33\n",
      "10020     610      Musical          14\n",
      "10017     610    Film-Noir          10\n",
      "10014     610  Documentary           5\n",
      "\n",
      "[10027 rows x 3 columns]\n"
     ]
    }
   ],
   "source": [
    "ratingsDF = pd.read_csv('ratings.csv')\n",
    "moviesDF = pd.read_csv('movies.csv')\n",
    "\n",
    "mergedDF = pd.merge(ratingsDF, moviesDF, on='movieId')\n",
    "\n",
    "userGenres = mergedDF.groupby('userId')['genres'].apply(lambda x: '|'.join(x)).reset_index()\n",
    "userGenres['genres'] = userGenres['genres'].str.split('|')\n",
    "genreCounts = userGenres.explode('genres').groupby(['userId', 'genres']).size().reset_index(name='genreCount')\n",
    "sortedGenres = genreCounts.sort_values(by=['userId', 'genreCount'], ascending=[True, False])\n",
    "\n",
    "print(sortedGenres[['userId', 'genres', 'genreCount']])"
   ]
  }
 ],
 "metadata": {
  "kernelspec": {
   "display_name": "Python 3 (ipykernel)",
   "language": "python",
   "name": "python3"
  },
  "language_info": {
   "codemirror_mode": {
    "name": "ipython",
    "version": 3
   },
   "file_extension": ".py",
   "mimetype": "text/x-python",
   "name": "python",
   "nbconvert_exporter": "python",
   "pygments_lexer": "ipython3",
   "version": "3.11.5"
  }
 },
 "nbformat": 4,
 "nbformat_minor": 2
}
