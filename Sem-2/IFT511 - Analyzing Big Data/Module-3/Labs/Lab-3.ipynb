{
 "cells": [
  {
   "cell_type": "markdown",
   "metadata": {},
   "source": [
    "Write a python script that uses pandas dataframes to find the following:\n",
    "\n",
    "1. The total number of purchases per product type.\n",
    "    - There are three product types sold by this etsy store: Framed Posters, Canvas Paintings & Poster Prints.\n",
    "    - Find the total number of purchases for each product type.\n",
    "    - Which product has the highest purchase count?\n",
    "    \n",
    "To solve this part, you can load the csv file into a dataframe, extract the purchase_type column and apply the value_counts() function to it.\n"
   ]
  },
  {
   "cell_type": "code",
   "execution_count": 3,
   "metadata": {},
   "outputs": [
    {
     "name": "stdout",
     "output_type": "stream",
     "text": [
      "Total number of purchases for each product type:  product_type\n",
      "Framed Poster      2351\n",
      "Canvas Painting    1215\n",
      "Poster Print        403\n",
      "Name: count, dtype: int64 \n",
      "\n",
      "Highest Purchase Count :  Framed Poster  =  2351\n"
     ]
    }
   ],
   "source": [
    "import pandas as pd\n",
    "\n",
    "df = pd.read_csv('sales.csv', header=0)\n",
    "counts = df['product_type'].value_counts()\n",
    "print('Total number of purchases for each product type: ', counts, '\\n')\n",
    "print('Highest Purchase Count : ', counts.idxmax(), ' = ', counts.max())"
   ]
  },
  {
   "cell_type": "markdown",
   "metadata": {},
   "source": [
    "2. The total number of purchases per month.\n",
    "    - First, extract the purchase_date column from the dataframe.\n",
    "    - Next, use the pandas DatetimeIndex class to extract the month from the purchase_date attribute. Use this page as a reference: https://www.interviewqs.com/ddi-code-snippets/extract-month-year-pandas\n",
    "    - Finally, apply the value_counts() function to the extracted months to get the total number of purchases per month. \n",
    "    - Can you use the month_name() function instead of month to show the month names instead of the month numbers? Check this page for reference: https://pandas.pydata.org/pandas-docs/stable/reference/api/pandas.DatetimeIndex.month_name.html"
   ]
  },
  {
   "cell_type": "code",
   "execution_count": 4,
   "metadata": {},
   "outputs": [
    {
     "name": "stdout",
     "output_type": "stream",
     "text": [
      "Month with Value Counts:  purchase_date\n",
      "1     321\n",
      "2     323\n",
      "3     365\n",
      "4     382\n",
      "5     345\n",
      "6     323\n",
      "7     345\n",
      "8     288\n",
      "9     319\n",
      "10    346\n",
      "11    270\n",
      "12    342\n",
      "Name: count, dtype: int64 \n",
      "\n",
      "Month Names with Value Counts:  purchase_date\n",
      "January      321\n",
      "February     323\n",
      "March        365\n",
      "April        382\n",
      "May          345\n",
      "June         323\n",
      "July         345\n",
      "August       288\n",
      "September    319\n",
      "October      346\n",
      "November     270\n",
      "December     342\n",
      "Name: count, dtype: int64\n"
     ]
    }
   ],
   "source": [
    "purchaseDate = df['purchase_date']\n",
    "months = pd.DatetimeIndex(purchaseDate).month\n",
    "monthCounts = months.value_counts(sort=False)\n",
    "print('Month with Value Counts: ', monthCounts, '\\n')\n",
    "\n",
    "monthNames = pd.DatetimeIndex(purchaseDate).month_name()\n",
    "monthNameCounts = monthNames.value_counts(sort=False)\n",
    "print('Month Names with Value Counts: ', monthNameCounts)"
   ]
  }
 ],
 "metadata": {
  "kernelspec": {
   "display_name": "Python 3 (ipykernel)",
   "language": "python",
   "name": "python3"
  },
  "language_info": {
   "codemirror_mode": {
    "name": "ipython",
    "version": 3
   },
   "file_extension": ".py",
   "mimetype": "text/x-python",
   "name": "python",
   "nbconvert_exporter": "python",
   "pygments_lexer": "ipython3",
   "version": "3.11.5"
  }
 },
 "nbformat": 4,
 "nbformat_minor": 2
}
