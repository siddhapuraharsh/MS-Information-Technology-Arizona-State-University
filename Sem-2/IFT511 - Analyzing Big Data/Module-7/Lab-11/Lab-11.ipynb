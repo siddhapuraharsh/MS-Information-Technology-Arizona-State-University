{
 "cells": [
  {
   "cell_type": "markdown",
   "metadata": {},
   "source": [
    "# Name: Harsh Siddhapura\n",
    "# ASU ID: 1230169813"
   ]
  },
  {
   "cell_type": "markdown",
   "metadata": {},
   "source": [
    "# Lab 11: Cross Validation with Confusion Matrix Evaluation\n",
    "\n"
   ]
  },
  {
   "cell_type": "code",
   "execution_count": 1,
   "metadata": {},
   "outputs": [],
   "source": [
    "from sklearn.datasets import load_svmlight_file\n",
    "from sklearn import svm\n",
    "from sklearn.model_selection import cross_val_score, cross_val_predict\n",
    "from sklearn.metrics import confusion_matrix, precision_score, recall_score, f1_score"
   ]
  },
  {
   "cell_type": "code",
   "execution_count": 2,
   "metadata": {},
   "outputs": [
    {
     "name": "stdout",
     "output_type": "stream",
     "text": [
      "Loading Dataset...\n",
      "Creating classifier object...\n",
      "Training classifier with cross validation, k=5\n",
      "Training Complete!\n",
      "Cross Validation Mean Accuracy = 0.85\n",
      "Standard Deviation of the Mean Accuracy across all runs = 0.00179\n"
     ]
    }
   ],
   "source": [
    "print(\"Loading Dataset...\")\n",
    "X,y = load_svmlight_file(\"a9a\")\n",
    "\n",
    "print(\"Creating classifier object...\")\n",
    "clf = svm.SVC(kernel='linear', C=1, random_state= 42) \n",
    "\n",
    "print(\"Training classifier with cross validation, k=5\")\n",
    "scores = cross_val_score(clf, X, y, cv=5)\n",
    "\n",
    "print(\"Training Complete!\")\n",
    "\n",
    "acc = scores.mean() \n",
    "stdiv = scores.std()\n",
    "print(\"Cross Validation Mean Accuracy = %0.2f\" % acc )\n",
    "print(\"Standard Deviation of the Mean Accuracy across all runs = %0.5f\" % stdiv)"
   ]
  },
  {
   "cell_type": "markdown",
   "metadata": {},
   "source": [
    "#### What is the obtained result?  \n",
    "Accuracy obtained is 0.85 or 85%"
   ]
  },
  {
   "cell_type": "markdown",
   "metadata": {},
   "source": [
    "### Linear Kernel with Confusion Matrix"
   ]
  },
  {
   "cell_type": "code",
   "execution_count": 2,
   "metadata": {},
   "outputs": [
    {
     "name": "stdout",
     "output_type": "stream",
     "text": [
      "Loading Dataset...\n",
      "Creating classifier object...\n",
      "Training classifier with cross validation, k=5\n",
      "Training Complete. Computing Confusion Matrix...\n",
      "\n",
      "Confusion Matrix: \n",
      "[[22941  1779]\n",
      " [ 3195  4646]]\n",
      "\n",
      "True Positive (TP) = 4646\n",
      "True Negative (TN) = 22941\n",
      "False Positive (FP) = 1779\n",
      "False Negative (FN) = 3195\n",
      "\n",
      "1. TPR (True Positive Rate) = 0.59\n",
      "2. TNR (True Negative Rate) = 0.93\n",
      "3. Recall = 0.59\n",
      "4. Precision = 0.72\n",
      "5. F-Measure = 0.65\n"
     ]
    }
   ],
   "source": [
    "print(\"Loading Dataset...\")\n",
    "X,y = load_svmlight_file(\"a9a\")\n",
    "\n",
    "print(\"Creating classifier object...\")\n",
    "clf = svm.SVC(kernel='linear', C=1, random_state= 42) \n",
    "\n",
    "print(\"Training classifier with cross validation, k=5\")\n",
    "y_pred = cross_val_predict(clf, X, y, cv=5)\n",
    "\n",
    "print(\"Training Complete. Computing Confusion Matrix...\\n\")\n",
    "matrix = confusion_matrix(y, y_pred)\n",
    "print(f'Confusion Matrix: \\n{matrix}')\n",
    "\n",
    "tn, fp, fn, tp = matrix.ravel()\n",
    "print(f'\\nTrue Positive (TP) = {tp}')\n",
    "print(f'True Negative (TN) = {tn}')\n",
    "print(f'False Positive (FP) = {fp}')\n",
    "print(f'False Negative (FN) = {fn}')\n",
    "\n",
    "# Calculate and print TPR (True Positive Rate)\n",
    "tpr = tp / (tp + fn)\n",
    "print('\\n1. TPR (True Positive Rate) = %0.2f' % tpr)\n",
    "\n",
    "# Calculate and print TNR (True Negative Rate)\n",
    "tnr = tn / (tn + fp)\n",
    "print('2. TNR (True Negative Rate) = %0.2f' % tnr)\n",
    "\n",
    "# Calculate and print Recall\n",
    "recall = recall_score(y, y_pred)\n",
    "print('3. Recall = %0.2f' % recall)\n",
    "\n",
    "# Calculate and print Precision\n",
    "precision = precision_score(y, y_pred)\n",
    "print('4. Precision = %0.2f' % precision)\n",
    "\n",
    "# Calculate and print F-Measure\n",
    "f_measure = f1_score(y, y_pred)\n",
    "print('5. F-Measure = %0.2f' % f_measure)"
   ]
  },
  {
   "cell_type": "markdown",
   "metadata": {},
   "source": [
    "#### Calculations:\n",
    "\n",
    "- Confusion Matrix:\n",
    "    - True Positive (TP) = 4646\n",
    "    - True Negative (TN) = 22941\n",
    "    - False Positive (FP) = 1779\n",
    "    - False Negative (FN) = 3195\n",
    "\n",
    "1. TPR (True Positive Rate): TP / ( TP + FN ) = 0.59\n",
    "2. TNR (True Negative Rate): TN / ( TN + FP ) = 0.93\n",
    "3. Recall: TP / ( TP + FN ) = 0.59\n",
    "4. Precision: TP / ( TP + FP ) = 0.72\n",
    "5. F-Measure: 2 * ( (Precision * Recall) / (Precision + Recall) ) = 0.65\n"
   ]
  },
  {
   "cell_type": "markdown",
   "metadata": {},
   "source": [
    "### Modify the code to use an rbf kernel with gamma = 0.1. Print the obtained confusion matrix."
   ]
  },
  {
   "cell_type": "code",
   "execution_count": 3,
   "metadata": {},
   "outputs": [
    {
     "name": "stdout",
     "output_type": "stream",
     "text": [
      "Loading Dataset...\n",
      "Creating classifier object...\n",
      "Training classifier with cross validation, k=5\n",
      "Training Complete. Computing Confusion Matrix...\n",
      "\n",
      "Confusion Matrix: \n",
      "[[22987  1733]\n",
      " [ 3263  4578]]\n",
      "\n",
      "True Positive (TP) = 4578\n",
      "True Negative (TN) = 22987\n",
      "False Positive (FP) = 1733\n",
      "False Negative (FN) = 3263\n",
      "\n",
      "1. TPR (True Positive Rate) = 0.58\n",
      "2. TNR (True Negative Rate) = 0.93\n",
      "3. Recall = 0.58\n",
      "4. Precision = 0.73\n",
      "5. F-Measure = 0.65\n"
     ]
    }
   ],
   "source": [
    "print(\"Loading Dataset...\")\n",
    "X,y = load_svmlight_file(\"a9a\")\n",
    "\n",
    "print(\"Creating classifier object...\")\n",
    "clf = svm.SVC(kernel='rbf', C=1, gamma=0.1, random_state= 42) \n",
    "\n",
    "print(\"Training classifier with cross validation, k=5\")\n",
    "y_pred = cross_val_predict(clf, X, y, cv=5)\n",
    "\n",
    "print(\"Training Complete. Computing Confusion Matrix...\\n\")\n",
    "matrix = confusion_matrix(y, y_pred)\n",
    "print(f'Confusion Matrix: \\n{matrix}')\n",
    "\n",
    "tn, fp, fn, tp = matrix.ravel()\n",
    "print(f'\\nTrue Positive (TP) = {tp}')\n",
    "print(f'True Negative (TN) = {tn}')\n",
    "print(f'False Positive (FP) = {fp}')\n",
    "print(f'False Negative (FN) = {fn}')\n",
    "\n",
    "# Calculate and print TPR (True Positive Rate)\n",
    "tpr = tp / (tp + fn)\n",
    "print('\\n1. TPR (True Positive Rate) = %0.2f' % tpr)\n",
    "\n",
    "# Calculate and print TNR (True Negative Rate)\n",
    "tnr = tn / (tn + fp)\n",
    "print('2. TNR (True Negative Rate) = %0.2f' % tnr)\n",
    "\n",
    "# Calculate and print Recall\n",
    "recall = recall_score(y, y_pred)\n",
    "print('3. Recall = %0.2f' % recall)\n",
    "\n",
    "# Calculate and print Precision\n",
    "precision = precision_score(y, y_pred)\n",
    "print('4. Precision = %0.2f' % precision)\n",
    "\n",
    "# Calculate and print F-Measure\n",
    "f_measure = f1_score(y, y_pred)\n",
    "print('5. F-Measure = %0.2f' % f_measure)"
   ]
  },
  {
   "cell_type": "markdown",
   "metadata": {},
   "source": [
    "#### Calculations:\n",
    "\n",
    "- Confusion Matrix:\n",
    "    - True Positive (TP) = 4578\n",
    "    - True Negative (TN) = 22987\n",
    "    - False Positive (FP) = 1733\n",
    "    - False Negative (FN) = 3263\n",
    "\n",
    "1. TPR (True Positive Rate): TP / ( TP + FN ) = 0.58\n",
    "2. TNR (True Negative Rate): TN / ( TN + FP ) = 0.93\n",
    "3. Recall: TP / ( TP + FN ) = 0.58\n",
    "4. Precision: TP / ( TP + FP ) = 0.73\n",
    "5. F-Measure: 2 * ( (Precision * Recall) / (Precision + Recall) ) = 0.65\n"
   ]
  },
  {
   "cell_type": "markdown",
   "metadata": {},
   "source": [
    "### Modify the code to use an rbf kernel with gamma = 0.01. Print the obtained confusion matrix."
   ]
  },
  {
   "cell_type": "code",
   "execution_count": 4,
   "metadata": {},
   "outputs": [
    {
     "name": "stdout",
     "output_type": "stream",
     "text": [
      "Loading Dataset...\n",
      "Creating classifier object...\n",
      "Training classifier with cross validation, k=5\n",
      "Training Complete. Computing Confusion Matrix...\n",
      "\n",
      "Confusion Matrix: \n",
      "[[23082  1638]\n",
      " [ 3429  4412]]\n",
      "\n",
      "True Positive (TP) = 4412\n",
      "True Negative (TN) = 23082\n",
      "False Positive (FP) = 1638\n",
      "False Negative (FN) = 3429\n",
      "\n",
      "1. TPR (True Positive Rate) = 0.56\n",
      "2. TNR (True Negative Rate) = 0.93\n",
      "3. Recall = 0.56\n",
      "4. Precision = 0.73\n",
      "5. F-Measure = 0.64\n"
     ]
    }
   ],
   "source": [
    "print(\"Loading Dataset...\")\n",
    "X,y = load_svmlight_file(\"a9a\")\n",
    "\n",
    "print(\"Creating classifier object...\")\n",
    "clf = svm.SVC(kernel='rbf', C=1, gamma=0.01, random_state= 42) \n",
    "\n",
    "print(\"Training classifier with cross validation, k=5\")\n",
    "y_pred = cross_val_predict(clf, X, y, cv=5)\n",
    "\n",
    "print(\"Training Complete. Computing Confusion Matrix...\\n\")\n",
    "matrix = confusion_matrix(y, y_pred)\n",
    "print(f'Confusion Matrix: \\n{matrix}')\n",
    "\n",
    "tn, fp, fn, tp = matrix.ravel()\n",
    "print(f'\\nTrue Positive (TP) = {tp}')\n",
    "print(f'True Negative (TN) = {tn}')\n",
    "print(f'False Positive (FP) = {fp}')\n",
    "print(f'False Negative (FN) = {fn}')\n",
    "\n",
    "# Calculate and print TPR (True Positive Rate)\n",
    "tpr = tp / (tp + fn)\n",
    "print('\\n1. TPR (True Positive Rate) = %0.2f' % tpr)\n",
    "\n",
    "# Calculate and print TNR (True Negative Rate)\n",
    "tnr = tn / (tn + fp)\n",
    "print('2. TNR (True Negative Rate) = %0.2f' % tnr)\n",
    "\n",
    "# Calculate and print Recall\n",
    "recall = recall_score(y, y_pred)\n",
    "print('3. Recall = %0.2f' % recall)\n",
    "\n",
    "# Calculate and print Precision\n",
    "precision = precision_score(y, y_pred)\n",
    "print('4. Precision = %0.2f' % precision)\n",
    "\n",
    "# Calculate and print F-Measure\n",
    "f_measure = f1_score(y, y_pred)\n",
    "print('5. F-Measure = %0.2f' % f_measure)"
   ]
  },
  {
   "cell_type": "markdown",
   "metadata": {},
   "source": [
    "#### Calculations:\n",
    "\n",
    "- Confusion Matrix:\n",
    "    - True Positive (TP) = 4412\n",
    "    - True Negative (TN) = 23082\n",
    "    - False Positive (FP) = 1638\n",
    "    - False Negative (FN) = 3429\n",
    "\n",
    "1. TPR (True Positive Rate): TP / ( TP + FN ) = 0.56\n",
    "2. TNR (True Negative Rate): TN / ( TN + FP ) = 0.93\n",
    "3. Recall: TP / ( TP + FN ) = 0.56\n",
    "4. Precision: TP / ( TP + FP ) = 0.73\n",
    "5. F-Measure: 2 * ( (Precision * Recall) / (Precision + Recall) ) = 0.64\n"
   ]
  },
  {
   "cell_type": "markdown",
   "metadata": {},
   "source": [
    "### Modify the code to use a polynomial kernel with a degree = 2. Print the obtained confusion matrix."
   ]
  },
  {
   "cell_type": "code",
   "execution_count": 5,
   "metadata": {},
   "outputs": [
    {
     "name": "stdout",
     "output_type": "stream",
     "text": [
      "Loading Dataset...\n",
      "Creating classifier object...\n",
      "Training classifier with cross validation, k=5\n",
      "Training Complete. Computing Confusion Matrix...\n",
      "\n",
      "Confusion Matrix: \n",
      "[[23054  1666]\n",
      " [ 3284  4557]]\n",
      "\n",
      "True Positive (TP) = 4557\n",
      "True Negative (TN) = 23054\n",
      "False Positive (FP) = 1666\n",
      "False Negative (FN) = 3284\n",
      "\n",
      "1. TPR (True Positive Rate) = 0.58\n",
      "2. TNR (True Negative Rate) = 0.93\n",
      "3. Recall = 0.58\n",
      "4. Precision = 0.73\n",
      "5. F-Measure = 0.65\n"
     ]
    }
   ],
   "source": [
    "print(\"Loading Dataset...\")\n",
    "X,y = load_svmlight_file(\"a9a\")\n",
    "\n",
    "print(\"Creating classifier object...\")\n",
    "clf = svm.SVC(kernel='poly', C=1, degree=2, random_state= 42) \n",
    "\n",
    "print(\"Training classifier with cross validation, k=5\")\n",
    "y_pred = cross_val_predict(clf, X, y, cv=5)\n",
    "\n",
    "print(\"Training Complete. Computing Confusion Matrix...\\n\")\n",
    "matrix = confusion_matrix(y, y_pred)\n",
    "print(f'Confusion Matrix: \\n{matrix}')\n",
    "\n",
    "tn, fp, fn, tp = matrix.ravel()\n",
    "print(f'\\nTrue Positive (TP) = {tp}')\n",
    "print(f'True Negative (TN) = {tn}')\n",
    "print(f'False Positive (FP) = {fp}')\n",
    "print(f'False Negative (FN) = {fn}')\n",
    "\n",
    "# Calculate and print TPR (True Positive Rate)\n",
    "tpr = tp / (tp + fn)\n",
    "print('\\n1. TPR (True Positive Rate) = %0.2f' % tpr)\n",
    "\n",
    "# Calculate and print TNR (True Negative Rate)\n",
    "tnr = tn / (tn + fp)\n",
    "print('2. TNR (True Negative Rate) = %0.2f' % tnr)\n",
    "\n",
    "# Calculate and print Recall\n",
    "recall = recall_score(y, y_pred)\n",
    "print('3. Recall = %0.2f' % recall)\n",
    "\n",
    "# Calculate and print Precision\n",
    "precision = precision_score(y, y_pred)\n",
    "print('4. Precision = %0.2f' % precision)\n",
    "\n",
    "# Calculate and print F-Measure\n",
    "f_measure = f1_score(y, y_pred)\n",
    "print('5. F-Measure = %0.2f' % f_measure)"
   ]
  },
  {
   "cell_type": "markdown",
   "metadata": {},
   "source": [
    "#### Calculations:\n",
    "\n",
    "- Confusion Matrix:\n",
    "    - True Positive (TP) = 4557\n",
    "    - True Negative (TN) = 23054\n",
    "    - False Positive (FP) = 1666\n",
    "    - False Negative (FN) = 3284\n",
    "\n",
    "1. TPR (True Positive Rate): TP / ( TP + FN ) = 0.58\n",
    "2. TNR (True Negative Rate): TN / ( TN + FP ) = 0.93\n",
    "3. Recall: TP / ( TP + FN ) = 0.58\n",
    "4. Precision: TP / ( TP + FP ) = 0.73\n",
    "5. F-Measure: 2 * ( (Precision * Recall) / (Precision + Recall) ) = 0.65\n"
   ]
  }
 ],
 "metadata": {
  "kernelspec": {
   "display_name": "Python 3 (ipykernel)",
   "language": "python",
   "name": "python3"
  },
  "language_info": {
   "codemirror_mode": {
    "name": "ipython",
    "version": 3
   },
   "file_extension": ".py",
   "mimetype": "text/x-python",
   "name": "python",
   "nbconvert_exporter": "python",
   "pygments_lexer": "ipython3",
   "version": "3.11.5"
  }
 },
 "nbformat": 4,
 "nbformat_minor": 2
}
